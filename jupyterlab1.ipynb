def fibonacci_sequence(n):
    sequence = []
    a, b = 0 , 1
    while a < n:
        sequence.append(a)
        a, b = b, a + b
    return sequence
result = fibonacci_sequence(100)
print(result)
        

###########
We define a function call fibonacci sequence with 'n' input. we name a variable sequence to append list of sequence. we set a = 0 and b = 1 where each number is the sum of the two preceding numbers. We use a while loop to through the same process.Setting a being 0 as less than 'n' being the user input. We append a to the list . Then swipe between a=b and b=a with count +=1. We then return the list and then call function ones more with 100 to check the fibonacci series.
#########
def is_prime(number):
    if number <= 1:
        return False
    for i in range(2, int(number**0.5) + 1):
        if number % i == 0:
            return False
    return True

print(is_prime(17))
####################################
Define is_prime with a number . We then ask if the user input which is 'number' is less than or equal to 1. The program should return false. We use for loop to check if its a range of prime starting with number 2 and the give number from the user. +1 . if the give number by the user is divisible and equal to 0. Then we need to return False but if its not then we return being the prime. we then print out the is_prime of (17) + 1 making True. automatically becomes a prime number.
#####################
